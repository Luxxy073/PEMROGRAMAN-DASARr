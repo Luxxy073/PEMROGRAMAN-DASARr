{
  "nbformat": 4,
  "nbformat_minor": 0,
  "metadata": {
    "colab": {
      "provenance": [],
      "authorship_tag": "ABX9TyOaYxw5xjwYyzsa8FPGFX8a",
      "include_colab_link": true
    },
    "kernelspec": {
      "name": "python3",
      "display_name": "Python 3"
    },
    "language_info": {
      "name": "python"
    }
  },
  "cells": [
    {
      "cell_type": "markdown",
      "metadata": {
        "id": "view-in-github",
        "colab_type": "text"
      },
      "source": [
        "<a href=\"https://colab.research.google.com/github/Luxxy073/PEMROGRAMAN-DASARr/blob/main/Pertemuan%205.ipynb\" target=\"_parent\"><img src=\"https://colab.research.google.com/assets/colab-badge.svg\" alt=\"Open In Colab\"/></a>"
      ]
    },
    {
      "cell_type": "code",
      "execution_count": null,
      "metadata": {
        "colab": {
          "base_uri": "https://localhost:8080/"
        },
        "id": "PxOQLJ33lF9w",
        "outputId": "13f24653-4cf8-4826-a6ff-a8bc034b04a3"
      },
      "outputs": [
        {
          "output_type": "stream",
          "name": "stdout",
          "text": [
            "iterasi ke-1\n",
            "iterasi ke-2\n",
            "iterasi ke-3\n",
            "iterasi ke-4\n",
            "iterasi ke-5\n",
            "saya suka['apel']\n",
            "saya suka['jeruk']\n",
            "saya suka['pisang']\n",
            "1. ['apel']\n",
            "2. ['jeruk']\n",
            "3. ['pisang']\n"
          ]
        }
      ],
      "source": [
        "# for loop dengan range\n",
        "for i in range(5):\n",
        "  print(f\"iterasi ke-{i + 1}\")\n",
        "\n",
        "# for loop dengan list\n",
        "buah = [\"apel\"], [\"jeruk\"], [\"pisang\"]\n",
        "for item in buah:\n",
        "  print(f\"saya suka{item}\")\n",
        "\n",
        "# for loop dengan enumerate\n",
        "for index, item in enumerate(buah):\n",
        "  print(f\"{index + 1}. {item}\")"
      ]
    },
    {
      "cell_type": "code",
      "source": [
        "# while loop sederhana\n",
        "angka = 1\n",
        "while angka <= 5:\n",
        "  print(f\"angka: {angka}\")\n",
        "  angka += 1\n",
        "\n",
        "# while loop dengan input\n",
        "jawaban = \"\"\n",
        "while jawaban != \"selesai\":\n",
        "  jawaban = input(\"ketik 'selesai' untuk berhenti: \")\n",
        "  if jawaban != \"selesai\":\n",
        "    print(f\"kamu mengetik: {jawaban}\")\n",
        "\n",
        "print(\"program selesai!\")"
      ],
      "metadata": {
        "colab": {
          "base_uri": "https://localhost:8080/"
        },
        "id": "3BrGZpUtnCgJ",
        "outputId": "b5015951-6b81-413c-e440-37a90d8a8d84"
      },
      "execution_count": null,
      "outputs": [
        {
          "output_type": "stream",
          "name": "stdout",
          "text": [
            "angka: 1\n",
            "angka: 2\n",
            "angka: 3\n",
            "angka: 4\n",
            "angka: 5\n",
            "ketik 'selesai' untuk berhenti: 1\n",
            "kamu mengetik: 1\n",
            "ketik 'selesai' untuk berhenti: 2\n",
            "kamu mengetik: 2\n",
            "ketik 'selesai' untuk berhenti: 5\n",
            "kamu mengetik: 5\n",
            "ketik 'selesai' untuk berhenti: selesai\n",
            "program selesai!\n"
          ]
        }
      ]
    },
    {
      "cell_type": "code",
      "source": [
        "#menggunakan continue\n",
        "for i in range(10):\n",
        "  if i % 2 ==0:\n",
        "    continue\n",
        "  print(f\"angka ganjil: {i}\")\n",
        "\n",
        "#contoh praktis\n",
        "angka = [2, 4, -1, 6, 8]\n",
        "for nilai in angka:\n",
        "  if nilai < 0:\n",
        "    print(\"angka negatif ditemukan!\")\n",
        "    break\n",
        "  print(f\"angka positif: {nilai}\")"
      ],
      "metadata": {
        "colab": {
          "base_uri": "https://localhost:8080/"
        },
        "id": "KCTY9WMis4ik",
        "outputId": "58002c38-b83e-461a-aeda-fc457c11cf88"
      },
      "execution_count": null,
      "outputs": [
        {
          "output_type": "stream",
          "name": "stdout",
          "text": [
            "angka ganjil: 1\n",
            "angka ganjil: 3\n",
            "angka ganjil: 5\n",
            "angka ganjil: 7\n",
            "angka ganjil: 9\n",
            "angka positif: 2\n",
            "angka positif: 4\n",
            "angka negatif ditemukan!\n"
          ]
        }
      ]
    }
  ]
}