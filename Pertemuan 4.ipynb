{
  "nbformat": 4,
  "nbformat_minor": 0,
  "metadata": {
    "colab": {
      "provenance": [],
      "authorship_tag": "ABX9TyNr1sTBmzyWyKzeCdE5QngE",
      "include_colab_link": true
    },
    "kernelspec": {
      "name": "python3",
      "display_name": "Python 3"
    },
    "language_info": {
      "name": "python"
    }
  },
  "cells": [
    {
      "cell_type": "markdown",
      "metadata": {
        "id": "view-in-github",
        "colab_type": "text"
      },
      "source": [
        "<a href=\"https://colab.research.google.com/github/Luxxy073/PEMROGRAMAN-DASARr/blob/main/Pertemuan%204.ipynb\" target=\"_parent\"><img src=\"https://colab.research.google.com/assets/colab-badge.svg\" alt=\"Open In Colab\"/></a>"
      ]
    },
    {
      "cell_type": "code",
      "execution_count": null,
      "metadata": {
        "colab": {
          "base_uri": "https://localhost:8080/"
        },
        "outputId": "a3980f1f-760e-4dcf-82c7-88e1de4fe6f2",
        "id": "ZPDr8QVoXeQs"
      },
      "outputs": [
        {
          "output_type": "stream",
          "name": "stdout",
          "text": [
            "kamu harus ikut remedi\n"
          ]
        }
      ],
      "source": [
        "if lulus == \"tidak\":\n",
        "    print(\"kamu harus ikut remedi\")"
      ]
    },
    {
      "cell_type": "code",
      "source": [
        "# variabel untuk menyimpan umur pengunjung\n",
        "umur: int = 20\n",
        "\n",
        "# program hanya mencetak pesan jika umur diatas 17\n",
        "if umur > 17:\n",
        "    print(\"pengunjung adalah orang dewasa.\")"
      ],
      "metadata": {
        "colab": {
          "base_uri": "https://localhost:8080/"
        },
        "id": "ShVN9gTPXv3U",
        "outputId": "fa7ad6bb-3cc1-4c6e-8581-543c10aff76a"
      },
      "execution_count": null,
      "outputs": [
        {
          "output_type": "stream",
          "name": "stdout",
          "text": [
            "pengunjung adalah orang dewasa.\n"
          ]
        }
      ]
    },
    {
      "cell_type": "code",
      "source": [
        "username = input(\"masukan username: \")\n",
        "password = input(\"masukan password: \")\n",
        "\n",
        "if username == \"ipromise\" and password == \"iwantoheaven\":\n",
        "    print(\"login berhasil\")\n",
        "else:\n",
        "    print(\"login gagal\")"
      ],
      "metadata": {
        "colab": {
          "base_uri": "https://localhost:8080/"
        },
        "id": "XtMBWWcuZIGK",
        "outputId": "32e267a6-5649-404d-d923-43a8490bee7c"
      },
      "execution_count": null,
      "outputs": [
        {
          "output_type": "stream",
          "name": "stdout",
          "text": [
            "masukan username: ipromise\n",
            "masukan password: iwantoheaven\n",
            "login berhasil\n"
          ]
        }
      ]
    },
    {
      "cell_type": "code",
      "source": [
        "# program untuk mengecek bonus dan diskon\n",
        "total_belanja = input(\"total belanja: Rp \")\n",
        "# jumlah yang harus dibayar adalah berapa total belanjanya\n",
        "# tapi kalau dapat diskon akan berkurang\n",
        "bayar = int(total_belanja)\n",
        "# jika dia belanja dia belanja diatas 100rb maka berikan bonus dan diskon\n",
        "if int(total_belanja) > 100000:\n",
        "  print(\"selamat karena belanja > Rp. 100.000 anda mendapat voucher umroh \")\n",
        "  print(\"dan diskon 5%\")\n",
        "# hitung diskonnya\n",
        "diskon = int(total_belanja) * 5/100 #5%\n",
        "bayar = int(total_belanja) - diskon\n",
        "# cetak struk\n",
        "print(\"total yang harus dibayar: Rp %s\" % bayar)\n",
        "print(\"terima kasih sudah belanja di toko kami\")\n",
        "print(\"kami tunggu kunjungan anda selanjutnya\")"
      ],
      "metadata": {
        "colab": {
          "base_uri": "https://localhost:8080/"
        },
        "id": "lysxWh2naYAa",
        "outputId": "c4bbc848-0ff0-404b-a44b-25f56a0bc035"
      },
      "execution_count": null,
      "outputs": [
        {
          "output_type": "stream",
          "name": "stdout",
          "text": [
            "total belanja: Rp 100000\n",
            "total yang harus dibayar: Rp 95000.0\n",
            "terima kasih sudah belanja di toko kami\n",
            "kami tunggu kunjungan anda selanjutnya\n"
          ]
        }
      ]
    },
    {
      "cell_type": "code",
      "source": [
        "# variabel untuk memeriksa apakah ada notifikasi baru\n",
        "ada_notifikasi_baru: bool = True\n",
        "\n",
        "if ada_notifikasi_baru:\n",
        "  print(\"anda memiliki pesan baru\")"
      ],
      "metadata": {
        "colab": {
          "base_uri": "https://localhost:8080/"
        },
        "id": "bRfult_0dpNC",
        "outputId": "c6e62ce9-8bee-480e-bd62-d1f5c2d30558"
      },
      "execution_count": null,
      "outputs": [
        {
          "output_type": "stream",
          "name": "stdout",
          "text": [
            "anda memiliki pesan baru\n"
          ]
        }
      ]
    },
    {
      "cell_type": "code",
      "source": [
        "umur = input(\"berapa umur kamu: \")\n",
        "if int(umur) >= 19:\n",
        "  print(\"kamu boleh membuat sim\")\n",
        "else:\n",
        "  print(f\"total bayar: Rp {total_belanja}\")"
      ],
      "metadata": {
        "colab": {
          "base_uri": "https://localhost:8080/"
        },
        "id": "diza6hmQfPeS",
        "outputId": "75c80211-36ee-438a-e405-c401034fc2c7"
      },
      "execution_count": null,
      "outputs": [
        {
          "output_type": "stream",
          "name": "stdout",
          "text": [
            "berapa umur kamu: 19\n",
            "kamu boleh membuat sim\n"
          ]
        }
      ]
    },
    {
      "cell_type": "code",
      "source": [
        "total_belanja = 200000\n",
        "\n",
        "if total_belanja > 25000:\n",
        "  diskon = total_belanja * 0.10\n",
        "  total_bayar = total_belanja - diskon\n",
        "  print(f\"anda mendapat diskon! total bayar: Rp {total_bayar}\")\n",
        "else:\n",
        "  print(f\"total bayar: Rp {total_belanja}\")"
      ],
      "metadata": {
        "colab": {
          "base_uri": "https://localhost:8080/"
        },
        "id": "yLGZRkCfgFkV",
        "outputId": "2fd90410-5a83-48ce-f584-a93cd3774019"
      },
      "execution_count": null,
      "outputs": [
        {
          "output_type": "stream",
          "name": "stdout",
          "text": [
            "anda mendapat diskon! total bayar: Rp 180000.0\n"
          ]
        }
      ]
    },
    {
      "cell_type": "code",
      "source": [
        "angka = int(input(\"masukan bilangan: \"))\n",
        "\n",
        "if angka % 2 == 0:\n",
        "  print(\"bilangan genap\")\n",
        "else:\n",
        "  print(\"bilangan ganjil\")"
      ],
      "metadata": {
        "colab": {
          "base_uri": "https://localhost:8080/"
        },
        "id": "Sn-o5rozkNvo",
        "outputId": "bca92320-c258-4656-979d-25d37eb11d00"
      },
      "execution_count": null,
      "outputs": [
        {
          "output_type": "stream",
          "name": "stdout",
          "text": [
            "masukan bilangan: 7\n",
            "bilangan ganjil\n"
          ]
        }
      ]
    },
    {
      "cell_type": "code",
      "source": [
        "nilai = 100\n",
        "if nilai >=85:\n",
        "  print(\"luar biasa! nilai A\")\n",
        "elif nilai >= 70:\n",
        "  print(\"bagus! nilai B\")\n",
        "elif nilai >= 60:\n",
        "  print(\"cukup. nilai C\")\n",
        "else:\n",
        "  print(\"nilai kurang, perlu belajar lebih giat.\")"
      ],
      "metadata": {
        "colab": {
          "base_uri": "https://localhost:8080/"
        },
        "id": "BgXWztNHkt6d",
        "outputId": "9b466c2c-3bdb-4f0a-9948-b5962e738ebf"
      },
      "execution_count": null,
      "outputs": [
        {
          "output_type": "stream",
          "name": "stdout",
          "text": [
            "luar biasa! nilai A\n"
          ]
        }
      ]
    },
    {
      "cell_type": "code",
      "source": [
        "# menentukan jenis diskon berdasarkan hari\n",
        "hari: str = \"sabtu\"\n",
        "\n",
        "if hari == \"sabtu\" or hari == \"minggu\":\n",
        "  diskon: float = 0.20 # diskon 20%\n",
        "  print(f\"selamat! anda mendapat diskon akhir pekan sebesar {diskon*100}%.\")\n",
        "elif hari == \"jumat\":\n",
        "  diskon: float = 0.15 # diskon 15%\n",
        "  print(f\"diskon spesial jumat! anda mendapat potongan {diskon*100}%.\")\n",
        "else:\n",
        "  diskon: float = 0.05 # diskon 5%\n",
        "  print(f\"anda mendapat diskon hari biasa sebesar {diskon*100}%.\")"
      ],
      "metadata": {
        "colab": {
          "base_uri": "https://localhost:8080/"
        },
        "id": "HjEzDooVmh7h",
        "outputId": "c5d2be1a-007b-4632-fdae-cd2cf2474276"
      },
      "execution_count": null,
      "outputs": [
        {
          "output_type": "stream",
          "name": "stdout",
          "text": [
            "selamat! anda mendapat diskon akhir pekan sebesar 20.0%.\n"
          ]
        }
      ]
    },
    {
      "cell_type": "code",
      "source": [
        "rupiah = int(input(\"masukan jumlah uang (Rp): \"))\n",
        "print(\"1. dollar (USD)\")\n",
        "print(\"2. euro (EUR)\")\n",
        "print(\"3. yen (JPY)\")\n",
        "pilih = int(input(\"pilih konversi (1/2/3): \"))\n",
        "\n",
        "if pilih == 1:\n",
        "  print(\"dalam dollar:\", rupiah / 15000)\n",
        "elif pilih == 2:\n",
        "  print(\"dalam euro:\", rupiah / 16000)\n",
        "elif pilih == 3:\n",
        "  print(\"dalam yen:\", rupiah / 120)\n",
        "else:\n",
        "  print(\"pilihan tidak valid\")"
      ],
      "metadata": {
        "colab": {
          "base_uri": "https://localhost:8080/"
        },
        "id": "aIXKedH_oN03",
        "outputId": "7cd462c6-63f2-46c6-a80b-d2a8302ae663"
      },
      "execution_count": null,
      "outputs": [
        {
          "output_type": "stream",
          "name": "stdout",
          "text": [
            "masukan jumlah uang (Rp): 4500000\n",
            "1. dollar (USD)\n",
            "2. euro (EUR)\n",
            "3. yen (JPY)\n",
            "pilih konversi (1/2/3): 2\n",
            "dalam euro: 281.25\n"
          ]
        }
      ]
    },
    {
      "cell_type": "code",
      "source": [
        "# 1\n",
        "try:\n",
        "    angka = int(input(\"Masukkan sebuah angka: \"))\n",
        "\n",
        "    if angka % 5 == 0:\n",
        "        print(\"Kelipatan 5\")\n",
        "    else:\n",
        "        print(\"Bukan kelipatan 5\")\n",
        "\n",
        "except ValueError:\n",
        "    print(\"Input tidak valid. Mohon masukkan angka.\")"
      ],
      "metadata": {
        "colab": {
          "base_uri": "https://localhost:8080/"
        },
        "id": "D654G4xfQIAO",
        "outputId": "45ba1c5f-22ef-49a3-ce9d-f6f60eaaa0fd"
      },
      "execution_count": 12,
      "outputs": [
        {
          "output_type": "stream",
          "name": "stdout",
          "text": [
            "Masukkan sebuah angka: 100\n",
            "Kelipatan 5\n"
          ]
        }
      ]
    },
    {
      "cell_type": "code",
      "source": [
        "# 2\n",
        "try:\n",
        "    tahun = int(input(\"Masukkan tahun: \"))\n",
        "\n",
        "    if (tahun % 4 == 0 and tahun % 100 != 0) or (tahun % 400 == 0):\n",
        "        print(f\"Tahun {tahun} adalah tahun kabisat.\")\n",
        "    else:\n",
        "        print(f\"Tahun {tahun} bukan tahun kabisat.\")\n",
        "\n",
        "except ValueError:\n",
        "    print(\"Input tidak valid. Mohon masukkan angka.\")"
      ],
      "metadata": {
        "colab": {
          "base_uri": "https://localhost:8080/"
        },
        "id": "CDI2Mf0nQUNB",
        "outputId": "165ecb69-48c0-4ab7-c20d-6a0a9f0cfe94"
      },
      "execution_count": 13,
      "outputs": [
        {
          "output_type": "stream",
          "name": "stdout",
          "text": [
            "Masukkan tahun: 2000\n",
            "Tahun 2000 adalah tahun kabisat.\n"
          ]
        }
      ]
    },
    {
      "cell_type": "code",
      "source": [
        "# 3\n",
        "try:\n",
        "    bilangan = int(input(\"Masukkan sebuah bilangan bulat: \"))\n",
        "\n",
        "    if bilangan % 2 == 0:\n",
        "        print(f\"Bilangan {bilangan} adalah bilangan genap.\")\n",
        "    else:\n",
        "        print(f\"Bilangan {bilangan} adalah bilangan ganjil.\")\n",
        "\n",
        "except ValueError:\n",
        "    print(\"Input tidak valid. Mohon masukkan angka.\")"
      ],
      "metadata": {
        "colab": {
          "base_uri": "https://localhost:8080/"
        },
        "id": "EnU9LhG8QjX-",
        "outputId": "1bf998eb-4869-4b5e-c9ce-e00e5418daa4"
      },
      "execution_count": 14,
      "outputs": [
        {
          "output_type": "stream",
          "name": "stdout",
          "text": [
            "Masukkan sebuah bilangan bulat: 10\n",
            "Bilangan 10 adalah bilangan genap.\n"
          ]
        }
      ]
    },
    {
      "cell_type": "code",
      "source": [
        "# 4\n",
        "try:\n",
        "    nomor_bulan = int(input(\"Masukkan angka bulan (1-12): \"))\n",
        "\n",
        "    nama_bulan = [\n",
        "        \"Januari\", \"Februari\", \"Maret\", \"April\",\n",
        "        \"Mei\", \"Juni\", \"Juli\", \"Agustus\",\n",
        "        \"September\", \"Oktober\", \"November\", \"Desember\"\n",
        "    ]\n",
        "\n",
        "    if 1 <= nomor_bulan <= 12:\n",
        "        print(f\"Bulan yang Anda pilih adalah {nama_bulan[nomor_bulan - 1]}.\")\n",
        "    else:\n",
        "        print(\"Angka bulan tidak valid. Mohon masukkan angka antara 1 dan 12.\")\n",
        "\n",
        "except ValueError:\n",
        "    print(\"Input tidak valid. Mohon masukkan angka.\")"
      ],
      "metadata": {
        "colab": {
          "base_uri": "https://localhost:8080/"
        },
        "id": "7nNIvMpaQx78",
        "outputId": "7418014a-0b80-4c42-bbb8-e89ba4adddbc"
      },
      "execution_count": 15,
      "outputs": [
        {
          "output_type": "stream",
          "name": "stdout",
          "text": [
            "Masukkan angka bulan (1-12): 3\n",
            "Bulan yang Anda pilih adalah Maret.\n"
          ]
        }
      ]
    },
    {
      "cell_type": "code",
      "source": [
        "# 5\n",
        "try:\n",
        "    jam = int(input(\"Masukkan jam saat ini (0-23): \"))\n",
        "\n",
        "    if 0 <= jam <= 10:\n",
        "        print(\"Selamat Pagi\")\n",
        "    elif 11 <= jam <= 14:\n",
        "        print(\"Selamat Siang\")\n",
        "    elif 15 <= jam <= 18:\n",
        "        print(\"Selamat Sore\")\n",
        "    elif 19 <= jam <= 23:\n",
        "        print(\"Selamat Malam\")\n",
        "    else:\n",
        "        print(\"Jam tidak valid. Mohon masukkan angka antara 0 dan 23.\")\n",
        "\n",
        "except ValueError:\n",
        "    print(\"Input tidak valid. Mohon masukkan angka.\")"
      ],
      "metadata": {
        "colab": {
          "base_uri": "https://localhost:8080/"
        },
        "id": "eSjdvXgTRGXX",
        "outputId": "dbc3622f-9d55-41b3-bf08-5cd9b59d164c"
      },
      "execution_count": 16,
      "outputs": [
        {
          "output_type": "stream",
          "name": "stdout",
          "text": [
            "Masukkan jam saat ini (0-23): 7\n",
            "Selamat Pagi\n"
          ]
        }
      ]
    }
  ]
}