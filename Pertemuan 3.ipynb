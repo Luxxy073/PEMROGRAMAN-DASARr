{
  "nbformat": 4,
  "nbformat_minor": 0,
  "metadata": {
    "colab": {
      "provenance": [],
      "authorship_tag": "ABX9TyMXj2ONtUrK3XRqjB90H1ze",
      "include_colab_link": true
    },
    "kernelspec": {
      "name": "python3",
      "display_name": "Python 3"
    },
    "language_info": {
      "name": "python"
    }
  },
  "cells": [
    {
      "cell_type": "markdown",
      "metadata": {
        "id": "view-in-github",
        "colab_type": "text"
      },
      "source": [
        "<a href=\"https://colab.research.google.com/github/Luxxy073/PEMROGRAMAN-DASARr/blob/main/Pertemuan%203.ipynb\" target=\"_parent\"><img src=\"https://colab.research.google.com/assets/colab-badge.svg\" alt=\"Open In Colab\"/></a>"
      ]
    },
    {
      "cell_type": "code",
      "execution_count": null,
      "metadata": {
        "colab": {
          "base_uri": "https://localhost:8080/"
        },
        "id": "sUpQJnrpVsL4",
        "outputId": "6a703703-52fd-4c79-e0e8-af46c2554e4d"
      },
      "outputs": [
        {
          "name": "stdout",
          "output_type": "stream",
          "text": [
            "Berapa kali kamu makan dalam sehari? : 3 kali sehari\n",
            "siapa nama pelanggan ? Luxxy\n"
          ]
        }
      ],
      "source": [
        "total = input(\"Berapa kali kamu makan dalam sehari? : \")\n",
        "Nama = input(\"siapa nama pelanggan ? \")"
      ]
    },
    {
      "cell_type": "code",
      "source": [
        "total = int (input(\"Berapa kali kamu makan dalam sehari? : \"))\n",
        "Nama = str (input(\"siapa Nama Pelanggan ? \"))"
      ],
      "metadata": {
        "colab": {
          "base_uri": "https://localhost:8080/"
        },
        "id": "oLh-O6hVX87d",
        "outputId": "5c4e63c2-4f1f-42cb-a6b5-5a81128089a4"
      },
      "execution_count": null,
      "outputs": [
        {
          "name": "stdout",
          "output_type": "stream",
          "text": [
            "Berapa kali kamu makan dalam sehari? : 3\n",
            "siapa Nama Pelanggan ? Luxxy\n"
          ]
        }
      ]
    },
    {
      "cell_type": "code",
      "source": [
        "food = \"nasi goreng\"\n",
        "print(\"Luxxy sedang memesan\", food)"
      ],
      "metadata": {
        "colab": {
          "base_uri": "https://localhost:8080/"
        },
        "id": "QwzfOchLaMpJ",
        "outputId": "13c28cf4-a279-442e-bab4-a14f525a657a"
      },
      "execution_count": null,
      "outputs": [
        {
          "output_type": "stream",
          "name": "stdout",
          "text": [
            "Luxxy sedang memesan nasi goreng\n"
          ]
        }
      ]
    },
    {
      "cell_type": "code",
      "source": [
        "food = \"nasi goreng\"\n",
        "print(\"Luxxy sedang makan\", food)\n",
        "print(\"Luxxy sedang memberi \"+ food)\n",
        "print(\"Luxxy sedang memesan %s\" % (food))"
      ],
      "metadata": {
        "colab": {
          "base_uri": "https://localhost:8080/"
        },
        "id": "ZUerDXKKba-v",
        "outputId": "71510128-948c-4a28-f608-5131e478abed"
      },
      "execution_count": null,
      "outputs": [
        {
          "output_type": "stream",
          "name": "stdout",
          "text": [
            "Luxxy sedang makan nasi goreng\n",
            "Luxxy sedang memberi nasi goreng\n",
            "Luxxy sedang memesan nasi goreng\n"
          ]
        }
      ]
    },
    {
      "cell_type": "code",
      "source": [
        "a = 20\n",
        "b = 5\n",
        "print(\"penjumlahan:\", a + b)\n",
        "print(\"pengurangan:\", a - b)\n",
        "print(\"perkalian:\", a * b)\n",
        "print(\"pembagian:\", a / b)"
      ],
      "metadata": {
        "colab": {
          "base_uri": "https://localhost:8080/"
        },
        "id": "V6rYXW4AcwAA",
        "outputId": "a735a186-86dc-43fa-f1c5-f61cd75e36ca"
      },
      "execution_count": null,
      "outputs": [
        {
          "output_type": "stream",
          "name": "stdout",
          "text": [
            "penjumlahan: 25\n",
            "pengurangan: 15\n",
            "perkalian: 100\n",
            "pembagian: 4.0\n"
          ]
        }
      ]
    },
    {
      "cell_type": "code",
      "source": [
        "bilangan = 8\n",
        "hasil = (bilangan > 0) and (bilangan % 2 == 0)\n",
        "print(\"Genap dan Positif?\", hasil)"
      ],
      "metadata": {
        "colab": {
          "base_uri": "https://localhost:8080/"
        },
        "id": "LNPpKE2_eEh0",
        "outputId": "362e371e-11c3-490e-8ca8-57e4997534df"
      },
      "execution_count": null,
      "outputs": [
        {
          "output_type": "stream",
          "name": "stdout",
          "text": [
            "Genap dan Positif? True\n"
          ]
        }
      ]
    },
    {
      "cell_type": "code",
      "source": [
        "harga_makan = float(input(\"Berapa harga nasi goreng per porsi? \"))\n",
        "jumlah_makan = int(input(\"Berapa porsi yg anda beli? \"))\n",
        "total_makan = harga_makan * jumlah_makan\n",
        "\n",
        "print(f\"harga makan per porsi = {harga_makan}, totalnya adalah {total_makan}\")"
      ],
      "metadata": {
        "colab": {
          "base_uri": "https://localhost:8080/"
        },
        "id": "TWyzq7F8er8L",
        "outputId": "1791257a-4a65-46bf-c915-80b1d96f4bdb"
      },
      "execution_count": null,
      "outputs": [
        {
          "output_type": "stream",
          "name": "stdout",
          "text": [
            "Berapa harga nasi goreng per porsi? 15000\n",
            "Berapa porsi yg anda beli? 3\n",
            "harga makan per porsi = 15000.0, totalnya adalah 45000.0\n"
          ]
        }
      ]
    },
    {
      "cell_type": "code",
      "source": [
        "#konversi waktu\n",
        "\n",
        "total_detik = 3600\n",
        "jam = total_detik // 3600\n",
        "sisa_detik = total_detik % 3600\n",
        "menit = sisa_detik // 6\n",
        "detik = sisa_detik % 60\n",
        "print(f\"hasil konversi: {jam} Jam, {menit} Menit, {detik} Detik\")"
      ],
      "metadata": {
        "colab": {
          "base_uri": "https://localhost:8080/"
        },
        "id": "N_Ww8XQxiaZF",
        "outputId": "0d3a8d34-b44b-40c4-c64b-75d582b45089"
      },
      "execution_count": null,
      "outputs": [
        {
          "output_type": "stream",
          "name": "stdout",
          "text": [
            "hasil konversi: 1 Jam, 0 Menit, 0 Detik\n"
          ]
        }
      ]
    },
    {
      "cell_type": "code",
      "source": [
        "tugas = 80\n",
        "uts = 70\n",
        "uas = 90\n",
        "nilai_akhir = (0.3 * tugas) + (0.3 * uts) + (0.4 * uas)\n",
        "print(\"nilai akhir =\", nilai_akhir)"
      ],
      "metadata": {
        "colab": {
          "base_uri": "https://localhost:8080/"
        },
        "id": "nPWck5BpkCkj",
        "outputId": "27079bb1-1e10-44d8-d926-8d195304ed7a"
      },
      "execution_count": null,
      "outputs": [
        {
          "output_type": "stream",
          "name": "stdout",
          "text": [
            "nilai akhir = 81.0\n"
          ]
        }
      ]
    },
    {
      "cell_type": "code",
      "source": [
        "nilai_mahasiswa = 90\n",
        "standar_kelulusan = 75\n",
        "apakah_lulus = nilai_mahasiswa >= standar_kelulusan\n",
        "perlu_remedial = nilai_mahasiswa < standar_kelulusan\n",
        "print(f\"nilai mahasiswa: {nilai_mahasiswa}\")\n",
        "print(f\"standar kelulusan: {standar_kelulusan}\")\n",
        "print(f\"apakah mahasiswa lulus? {apakah_lulus}\")\n",
        "print(f\"perlu remedial? {perlu_remedial}\")"
      ],
      "metadata": {
        "colab": {
          "base_uri": "https://localhost:8080/"
        },
        "id": "AMIm3QpNl0AQ",
        "outputId": "2143e3fe-2039-442e-fab0-707291a55de8"
      },
      "execution_count": null,
      "outputs": [
        {
          "output_type": "stream",
          "name": "stdout",
          "text": [
            "nilai mahasiswa: 90\n",
            "standar kelulusan: 75\n",
            "apakah mahasiswa lulus? True\n",
            "perlu remedial? False\n"
          ]
        }
      ]
    },
    {
      "cell_type": "code",
      "source": [
        "belanja = 820000\n",
        "diskon = (0, 0.1 * belanja)[belanja > 545000]\n",
        "total_harga = belanja - diskon\n",
        "print(\"total harga setelah diskon =\", total_harga)"
      ],
      "metadata": {
        "colab": {
          "base_uri": "https://localhost:8080/"
        },
        "id": "er-S-0AEpCV6",
        "outputId": "9c6dda0e-e6d8-4c83-9779-c2708735e78c"
      },
      "execution_count": null,
      "outputs": [
        {
          "output_type": "stream",
          "name": "stdout",
          "text": [
            "total harga setelah diskon = 738000.0\n"
          ]
        }
      ]
    },
    {
      "cell_type": "code",
      "source": [
        "# Nomor 1: Menentukan apakah suatu tahun kabisat\n",
        "\n",
        "tahun = int(input(\"Masukkan tahun: \"))\n",
        "\n",
        "is_kabisat = (tahun % 4 == 0 and tahun % 100 != 0) or (tahun % 400 == 0)\n",
        "\n",
        "print(\"Apakah tahun kabisat?\", is_kabisat)\n"
      ],
      "metadata": {
        "colab": {
          "base_uri": "https://localhost:8080/"
        },
        "id": "6VPNwPABsykh",
        "outputId": "1d6b058a-1948-4999-aeef-d3c2be96d873"
      },
      "execution_count": null,
      "outputs": [
        {
          "output_type": "stream",
          "name": "stdout",
          "text": [
            "Masukkan tahun: 400\n",
            "Apakah tahun kabisat? True\n"
          ]
        }
      ]
    },
    {
      "cell_type": "code",
      "source": [
        "# Nomor 2: Program sederhana menentukan tahun kabisat\n",
        "\n",
        "def cek_tahun_kabisat(tahun):\n",
        "    return (tahun % 4 == 0 and tahun % 100 != 0) or (tahun % 400 == 0)\n",
        "\n",
        "def main():\n",
        "    tahun = int(input(\"Masukkan tahun: \"))\n",
        "\n",
        "    if cek_tahun_kabisat(tahun):\n",
        "        print(f\"{tahun} adalah tahun kabisat \")\n",
        "    else:\n",
        "        print(f\"{tahun} bukan tahun kabisat \")\n",
        "\n",
        "main()\n"
      ],
      "metadata": {
        "colab": {
          "base_uri": "https://localhost:8080/"
        },
        "id": "_nPzeCGEthe2",
        "outputId": "d219e430-c643-4e0b-ef5c-7d68deefc5fc"
      },
      "execution_count": null,
      "outputs": [
        {
          "output_type": "stream",
          "name": "stdout",
          "text": [
            "Masukkan tahun: 400\n",
            "400 adalah tahun kabisat \n"
          ]
        }
      ]
    },
    {
      "cell_type": "code",
      "source": [
        "# Program Kasir Sederhana di Kedai Kopi\n",
        "\n",
        "jumlah_item = int(input(\"Masukkan jumlah item yang dibeli: \"))\n",
        "\n",
        "harga_items = []\n",
        "\n",
        "for i in range(jumlah_item):\n",
        "    harga = float(input(f\"Masukkan harga item ke-{i+1}: Rp \"))\n",
        "    harga_items.append(harga)\n",
        "\n",
        "is_member = input(\"Apakah pelanggan seorang member? (y/n): \").lower() == \"y\"\n",
        "\n",
        "subtotal = sum(harga_items)\n",
        "\n",
        "berhak_diskon = is_member and subtotal > 100000\n",
        "\n",
        "if berhak_diskon:\n",
        "    diskon = 0.15 * subtotal\n",
        "else:\n",
        "    diskon = 0\n",
        "\n",
        "harga_setelah_diskon = subtotal - diskon\n",
        "\n",
        "ppn = 0.11 * harga_setelah_diskon\n",
        "\n",
        "total_akhir = harga_setelah_diskon + ppn\n",
        "\n",
        "print(\"\\n===== STRUK BELANJA =====\")\n",
        "print(f\"Subtotal               : Rp {subtotal:,.2f}\")\n",
        "print(f\"Diskon (15%)           : Rp {diskon:,.2f}\")\n",
        "print(f\"Harga setelah diskon   : Rp {harga_setelah_diskon:,.2f}\")\n",
        "print(f\"PPN (11%)              : Rp {ppn:,.2f}\")\n",
        "print(f\"Total yang harus dibayar: Rp {total_akhir:,.2f}\")\n",
        "print(\"===========================\")\n"
      ],
      "metadata": {
        "colab": {
          "base_uri": "https://localhost:8080/"
        },
        "id": "W2WTl8alvjUN",
        "outputId": "2fcd78ab-7714-48b1-ae3e-592406ed339f"
      },
      "execution_count": null,
      "outputs": [
        {
          "output_type": "stream",
          "name": "stdout",
          "text": [
            "Masukkan jumlah item yang dibeli: 2\n",
            "Masukkan harga item ke-1: Rp 12000\n",
            "Masukkan harga item ke-2: Rp 12000\n",
            "Apakah pelanggan seorang member? (y/n): y\n",
            "\n",
            "===== STRUK BELANJA =====\n",
            "Subtotal               : Rp 24,000.00\n",
            "Diskon (15%)           : Rp 0.00\n",
            "Harga setelah diskon   : Rp 24,000.00\n",
            "PPN (11%)              : Rp 2,640.00\n",
            "Total yang harus dibayar: Rp 26,640.00\n",
            "===========================\n"
          ]
        }
      ]
    }
  ]
}