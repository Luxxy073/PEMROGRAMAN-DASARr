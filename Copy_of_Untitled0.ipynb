{
  "nbformat": 4,
  "nbformat_minor": 0,
  "metadata": {
    "colab": {
      "provenance": [],
      "authorship_tag": "ABX9TyP6I3BaUNueNKuKcNImDh21",
      "include_colab_link": true
    },
    "kernelspec": {
      "name": "python3",
      "display_name": "Python 3"
    },
    "language_info": {
      "name": "python"
    }
  },
  "cells": [
    {
      "cell_type": "markdown",
      "metadata": {
        "id": "view-in-github",
        "colab_type": "text"
      },
      "source": [
        "<a href=\"https://colab.research.google.com/github/Luxxy073/PEMROGRAMAN-DASARr/blob/main/Copy_of_Untitled0.ipynb\" target=\"_parent\"><img src=\"https://colab.research.google.com/assets/colab-badge.svg\" alt=\"Open In Colab\"/></a>"
      ]
    },
    {
      "cell_type": "code",
      "execution_count": null,
      "metadata": {
        "colab": {
          "base_uri": "https://localhost:8080/"
        },
        "id": "iq6BzZmTYUym",
        "outputId": "2003159c-9255-4ae2-d45c-cb99d1a0ba6c"
      },
      "outputs": [
        {
          "output_type": "stream",
          "name": "stdout",
          "text": [
            "Hello, nama saya Vasluky Aulya rojali\n"
          ]
        }
      ],
      "source": [
        "name = \"Vasluky Aulya rojali\"\n",
        "print(f\"Hello, nama saya {name}\")"
      ]
    },
    {
      "cell_type": "code",
      "source": [
        "name = \"Vasluky Aulya Rojali\"\n",
        "print(\"nama saya %s\" % (name))\n"
      ],
      "metadata": {
        "colab": {
          "base_uri": "https://localhost:8080/"
        },
        "id": "viJMsayxdY8O",
        "outputId": "fa8115e0-1c67-45f9-ba7f-fcaa9478a65b"
      },
      "execution_count": null,
      "outputs": [
        {
          "output_type": "stream",
          "name": "stdout",
          "text": [
            "nama saya Vasluky Aulya Rojali\n"
          ]
        }
      ]
    },
    {
      "cell_type": "code",
      "source": [
        "name = \"Vasluky Aulya Rojali\"\n",
        "print(\"Nama saya {}\".format(name))\n"
      ],
      "metadata": {
        "colab": {
          "base_uri": "https://localhost:8080/"
        },
        "id": "SL2f_qq_d-C1",
        "outputId": "042b5eba-6c3d-4acd-b960-38bd28d55d13"
      },
      "execution_count": null,
      "outputs": [
        {
          "output_type": "stream",
          "name": "stdout",
          "text": [
            "Nama saya Vasluky Aulya Rojali\n"
          ]
        }
      ]
    },
    {
      "cell_type": "code",
      "source": [
        "nama = \"Luxxy\"\n",
        "print(\"nama saya :\", nama)"
      ],
      "metadata": {
        "colab": {
          "base_uri": "https://localhost:8080/"
        },
        "id": "Itv1_K11eSZt",
        "outputId": "d29af88f-6e76-435a-d51d-36fec2b95866"
      },
      "execution_count": null,
      "outputs": [
        {
          "output_type": "stream",
          "name": "stdout",
          "text": [
            "nama saya : Luxxy\n"
          ]
        }
      ]
    },
    {
      "cell_type": "code",
      "source": [
        "x = [1, 2.2, 'Polibatam']\n",
        "print(type(x))\n",
        "\n",
        "x =[1, 2.2, 'Dicoding']\n",
        "print(x)"
      ],
      "metadata": {
        "colab": {
          "base_uri": "https://localhost:8080/"
        },
        "id": "Js8nKZ3Xm4TW",
        "outputId": "3ba29da8-ff16-4711-d729-87871eb3712c"
      },
      "execution_count": null,
      "outputs": [
        {
          "output_type": "stream",
          "name": "stdout",
          "text": [
            "<class 'list'>\n",
            "[1, 2.2, 'Dicoding']\n"
          ]
        }
      ]
    },
    {
      "cell_type": "code",
      "source": [
        "x = 1 'Polibatam', True, 1.0\n",
        "\n",
        "print(x[2])"
      ],
      "metadata": {
        "id": "YtOme8KBoTHi"
      },
      "execution_count": null,
      "outputs": []
    }
  ]
}